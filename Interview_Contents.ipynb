{
 "cells": [
  {
   "cell_type": "code",
   "execution_count": 12,
   "id": "ef13eccb",
   "metadata": {},
   "outputs": [
    {
     "name": "stdout",
     "output_type": "stream",
     "text": [
      "Number of students : 5\n",
      "Enter Marks:9\n",
      "Enter Marks:8\n",
      "Enter Marks:7\n",
      "Enter Marks:8\n",
      "Enter Marks:7\n",
      "Given List [9, 8, 7, 8, 7]\n",
      "Average :  7.8\n",
      "List of Above average Marks:  [8, 8, 9]\n"
     ]
    }
   ],
   "source": [
    "# Given a list of test scores, find the scores which are above average. \n",
    "# Output the scores as a sorted list (in ascending order).\n",
    "\n",
    "MarksList =[]\n",
    "n = int(input(\"Number of students : \"))\n",
    "for i in range(n):\n",
    "    MarksList.append(int(input(\"Enter Marks:\")))\n",
    "    \n",
    "print(\"Given List\",MarksList)\n",
    "    \n",
    "average = sum(MarksList) / n\n",
    "\n",
    "print(\"Average : \", average)\n",
    "\n",
    "AboveAvgList = [x for x in MarksList if x>average ]\n",
    "\n",
    "# AboveAvgList = [x if x>average for x in MarksList]\n",
    "\n",
    "# print(\"List of Above average Marks: \",sorted(AboveAvgList))\n",
    "\n",
    "AboveAvgList.sort(reverse=False)\n",
    "print(\"List of Above average Marks: \",AboveAvgList)\n",
    "\n"
   ]
  },
  {
   "cell_type": "markdown",
   "id": "7ad2c501",
   "metadata": {},
   "source": [
    "In a school, there are total 20 students numbered from 1 to 20. You’re given three lists named ‘C’, ‘F’, and ‘H’,\n",
    "representing students who play cricket, football, and hockey, respectively. Based on this information, \n",
    "find out and print the following: \n",
    "\n",
    "    Students who play all the three sports\n",
    "    Students who play both cricket and football but don’t play hockey\n",
    "    Students who play exactly two of the sports\n",
    "    Students who don’t play any of the three sports\n",
    "\n",
    "Format:\n",
    "Input:\n",
    "3 lists containing numbers (ranging from 1 to 20) representing students who play cricket, football and hockey respectively.\n",
    "Output:\n",
    "4 different lists containing the students according to the constraints provided in the questions.\n",
    "\n",
    "Note: Make sure you sort the final lists (in an ascending order) that you get before printing them;\n",
    "    otherwise your answer might not match the test-cases."
   ]
  },
  {
   "cell_type": "code",
   "execution_count": 34,
   "id": "26c325dc",
   "metadata": {},
   "outputs": [
    {
     "name": "stdout",
     "output_type": "stream",
     "text": [
      "Total number of Students :  20 \n",
      "Number list :  [1, 2, 3, 4, 5, 6, 7, 8, 9, 10, 11, 12, 13, 14, 15, 16, 17, 18, 19, 20]\n",
      "#Students play Cricket : 3\n",
      "Enter Roll number of student who play cricket :  1\n",
      "Enter Roll number of student who play cricket :  2\n",
      "Enter Roll number of student who play cricket :  4\n",
      "#Students play Football : 3\n",
      "Enter Roll number of student who play Football :  2\n",
      "Enter Roll number of student who play Football :  5\n",
      "Enter Roll number of student who play Football :  6\n",
      "#Students play Hockey : 4\n",
      "Enter Roll number of student who play Hockey :  3\n",
      "Enter Roll number of student who play Hockey :  6\n",
      "Enter Roll number of student who play Hockey :  8\n",
      "Enter Roll number of student who play Hockey :  2\n",
      "::: List of Students ::: \n",
      "Cricket :  [1, 2, 4]\n",
      "Football :  [2, 5, 6]\n",
      "Hockey :  [2, 3, 6, 8]\n",
      "List of Students who play all three sports :  [2]\n",
      "List of Students who play both Cricket and Football :  []\n",
      "List of Students who play exactly two sports: [6]\n",
      "List of students who don't play any of the sports :  {7, 9, 10, 11, 12, 13, 14, 15, 16, 17, 18, 19, 20}\n"
     ]
    }
   ],
   "source": [
    "AllList = [x for x in range(1,21)]\n",
    "print(\"Total number of Students : \" , len(AllList), \"\\nNumber list : \", AllList)\n",
    "\n",
    "C = []\n",
    "F = []\n",
    "H = []\n",
    "\n",
    "Cn = int(input(\"#Students play Cricket : \"))\n",
    "for i in range(Cn):\n",
    "    C.append(int(input(\"Enter Roll number of student who play cricket :  \")))\n",
    "C = set(C)\n",
    "    \n",
    "Fn = int(input(\"#Students play Football : \"))\n",
    "for i in range(Fn):\n",
    "    F.append(int(input(\"Enter Roll number of student who play Football :  \")))\n",
    "F = set(F)\n",
    "\n",
    "Hn = int(input(\"#Students play Hockey : \"))\n",
    "for i in range(Hn):\n",
    "    H.append(int(input(\"Enter Roll number of student who play Hockey :  \")))\n",
    "H = set(H)\n",
    "\n",
    "print(\"::: List of Students ::: \")\n",
    "print(\"Cricket : \", sorted(list(C)))\n",
    "print(\"Football : \", sorted(list(F)))\n",
    "print(\"Hockey : \", sorted(list(H)))\n",
    "\n",
    "print(\"List of Students who play all three sports : \", sorted(list(C.intersection(F,H))))\n",
    "\n",
    "CF = list((C.intersection(F)).difference(H))\n",
    "print(\"List of Students who play both Cricket and Football : \",sorted(CF))\n",
    "\n",
    "CH = list((C.intersection(H)).difference(F))\n",
    "FH = list((H.intersection(F)).difference(C))\n",
    "twoUnion = set(CF).union(set(CH),set(FH))\n",
    "threeIntersect = C.intersection(F,H)\n",
    "ExTwo = twoUnion.difference(threeIntersect)\n",
    "\n",
    "print(\"List of Students who play exactly two sports:\", sorted(list(ExTwo)))\n",
    "\n",
    "noSport = set(AllList)-(C.union(F,H))\n",
    "print(\"List of students who don't play any of the sports : \",noSport)\n"
   ]
  },
  {
   "cell_type": "markdown",
   "id": "07d0b166",
   "metadata": {},
   "source": [
    "Given a dictionary containing the name and marks of some students, find out the students whose marks are at least 80. Return the student names in a list sorted in alphabetical ascending order.\n",
    "\n",
    "StudDList = [ {\"Rahul\":82,\"KartikK\":80}, {\"Kartik\":85}, {\"Jon\":75}, {\"JonD\":75,\"Anil\":60}]\n",
    "\n",
    "StudDict = {\"Rahul\":82,\"Kartik\":85,\"Jon\":75,\"Anil\":60}\n",
    "\n",
    "output - list [\"Kartik\",\"KartikK\",\"Rahul\"]\n"
   ]
  },
  {
   "cell_type": "code",
   "execution_count": 35,
   "id": "2cebaf67",
   "metadata": {},
   "outputs": [
    {
     "name": "stdout",
     "output_type": "stream",
     "text": [
      "List of Students whose marks are at least 80 :  ['Kartik', 'Rahul']\n"
     ]
    }
   ],
   "source": [
    "StudDict = {\"Rahul\":82,\"Kartik\":85,\"Jon\":75,\"Anil\":60}\n",
    "StudList = []\n",
    "for name,mark in StudDict.items():\n",
    "    if mark>=80:\n",
    "        StudList.append(name)\n",
    "\n",
    "print(\"List of Students whose marks are at least 80 : \", sorted(StudList))"
   ]
  },
  {
   "cell_type": "code",
   "execution_count": null,
   "id": "ebffb0c0",
   "metadata": {},
   "outputs": [],
   "source": []
  }
 ],
 "metadata": {
  "kernelspec": {
   "display_name": "Python 3 (ipykernel)",
   "language": "python",
   "name": "python3"
  },
  "language_info": {
   "codemirror_mode": {
    "name": "ipython",
    "version": 3
   },
   "file_extension": ".py",
   "mimetype": "text/x-python",
   "name": "python",
   "nbconvert_exporter": "python",
   "pygments_lexer": "ipython3",
   "version": "3.11.2"
  }
 },
 "nbformat": 4,
 "nbformat_minor": 5
}
