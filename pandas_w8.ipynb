{
 "cells": [
  {
   "cell_type": "code",
   "execution_count": 1,
   "id": "a328be5f",
   "metadata": {},
   "outputs": [],
   "source": [
    "#lambda function\n",
    "\n",
    "lambda arguments : expression"
   ]
  },
  {
   "cell_type": "code",
   "execution_count": null,
   "id": "e693d27e",
   "metadata": {},
   "outputs": [],
   "source": [
    "def fun(n):\n",
    "    return n%2==0;"
   ]
  },
  {
   "cell_type": "code",
   "execution_count": 2,
   "id": "58667a60",
   "metadata": {},
   "outputs": [
    {
     "name": "stdout",
     "output_type": "stream",
     "text": [
      "20\n",
      "20\n"
     ]
    }
   ],
   "source": [
    "def doubleFun(n):\n",
    "    return n*2\n",
    "\n",
    "x = lambda a : a*2\n",
    "\n",
    "print(x(10))\n",
    "print(doubleFun(10))"
   ]
  },
  {
   "cell_type": "code",
   "execution_count": 3,
   "id": "39254be8",
   "metadata": {},
   "outputs": [
    {
     "name": "stdout",
     "output_type": "stream",
     "text": [
      "4\n"
     ]
    }
   ],
   "source": [
    "x = lambda a,b,c : a+b-c\n",
    "\n",
    "print(x(3,2,1))"
   ]
  },
  {
   "cell_type": "code",
   "execution_count": 7,
   "id": "0842e4ad",
   "metadata": {
    "scrolled": true
   },
   "outputs": [
    {
     "name": "stdout",
     "output_type": "stream",
     "text": [
      "28\n"
     ]
    }
   ],
   "source": [
    "# inside another function\n",
    "\n",
    "def multiFun(n):\n",
    "    return lambda a: a*n\n",
    "\n",
    "doubler = multiFun(2) #lambda a:a*2\n",
    "\n",
    "print(doubler(14))\n",
    "\n"
   ]
  },
  {
   "cell_type": "code",
   "execution_count": 8,
   "id": "688b770b",
   "metadata": {},
   "outputs": [
    {
     "name": "stdout",
     "output_type": "stream",
     "text": [
      "42\n"
     ]
    }
   ],
   "source": [
    "tripler = multiFun(3) #lambda a:a*3\n",
    "\n",
    "print(tripler(14))\n"
   ]
  },
  {
   "cell_type": "code",
   "execution_count": 10,
   "id": "42cf223c",
   "metadata": {},
   "outputs": [
    {
     "name": "stdout",
     "output_type": "stream",
     "text": [
      "28\n",
      "30\n",
      "50\n",
      "56\n",
      "42\n",
      "72\n",
      "24\n",
      "30\n"
     ]
    }
   ],
   "source": [
    "# inside another function\n",
    "\n",
    "def multiFun(n):\n",
    "    return lambda a: a*n\n",
    "\n",
    "doubler = multiFun(2) #lambda a:a*2\n",
    "print(doubler(14))\n",
    "print(doubler(15))\n",
    "print(doubler(25))\n",
    "print(doubler(28))\n",
    "\n",
    "tripler = multiFun(3) #lambda a:a*3\n",
    "print(tripler(14))\n",
    "print(tripler(24))\n",
    "print(tripler(8))\n",
    "print(tripler(10))\n"
   ]
  },
  {
   "cell_type": "code",
   "execution_count": 11,
   "id": "23983969",
   "metadata": {},
   "outputs": [
    {
     "name": "stdout",
     "output_type": "stream",
     "text": [
      "adbmal si siht ih\n"
     ]
    }
   ],
   "source": [
    "# return reverse of string\n",
    "\n",
    "x = lambda string : string[::-1]\n",
    "print(x(\"hi this is lambda\"))"
   ]
  },
  {
   "cell_type": "code",
   "execution_count": 12,
   "id": "58ad0522",
   "metadata": {},
   "outputs": [
    {
     "name": "stdout",
     "output_type": "stream",
     "text": [
      "ADBMAL SI SIHT IH\n"
     ]
    }
   ],
   "source": [
    "\n",
    "x = lambda string : string.upper()[::-1]\n",
    "print(x(\"hi this is lambda\"))"
   ]
  },
  {
   "cell_type": "code",
   "execution_count": 14,
   "id": "8d1ca76e",
   "metadata": {},
   "outputs": [
    {
     "name": "stdout",
     "output_type": "stream",
     "text": [
      "1.000000e+02\n",
      "34,332.64\n"
     ]
    }
   ],
   "source": [
    "# if else within lambda\n",
    "\n",
    "str_format = lambda strn : f\"{strn:e}\" if isinstance(strn,int) else f\"{strn:,.2f}\" \n",
    "print(str_format(100))\n",
    "print(str_format(34332.643754))\n",
    "\n"
   ]
  },
  {
   "cell_type": "code",
   "execution_count": null,
   "id": "11c72a76",
   "metadata": {},
   "outputs": [],
   "source": [
    "# if num divisible by 2\n",
    "\n",
    "\n"
   ]
  },
  {
   "cell_type": "code",
   "execution_count": 16,
   "id": "a420e10f",
   "metadata": {},
   "outputs": [
    {
     "name": "stdout",
     "output_type": "stream",
     "text": [
      "[3, 5, 7, 9]\n"
     ]
    }
   ],
   "source": [
    "# use multiple statements\n",
    "\n",
    "list1 = [[1,4,3],[2,5,6,4,1],[5,7,9,6,4],[5,9,10,8,7]]\n",
    "\n",
    "sortList = lambda x : (sorted(le) for le in x)\n",
    "\n",
    "secLarge = lambda x,fun : [y[len(y)-2] for y in fun(x)]\n",
    "\n",
    "print(secLarge(list1,sortList))\n"
   ]
  },
  {
   "cell_type": "code",
   "execution_count": 17,
   "id": "a8727bdd",
   "metadata": {},
   "outputs": [
    {
     "name": "stdout",
     "output_type": "stream",
     "text": [
      "[2, 4, 8, 10, 42, 26, 34, 44, 78, 88]\n"
     ]
    }
   ],
   "source": [
    "list2 = [2,5,4,7,8,9,10,13,15,42,26,34,44,57,65,78,88]\n",
    "# even numbers , use filter() and lambda\n",
    "\n",
    "# filter(cond,input)\n",
    "\n",
    "even = list(filter(lambda x : (x%2==0), list2))\n",
    "print(even)"
   ]
  },
  {
   "cell_type": "code",
   "execution_count": null,
   "id": "af368d3e",
   "metadata": {},
   "outputs": [],
   "source": []
  },
  {
   "cell_type": "code",
   "execution_count": null,
   "id": "7491dc50",
   "metadata": {},
   "outputs": [],
   "source": [
    "# summarized tabular data\n",
    "# pandas "
   ]
  },
  {
   "cell_type": "code",
   "execution_count": 19,
   "id": "80f4d35a",
   "metadata": {},
   "outputs": [],
   "source": [
    "import pandas as pd\n",
    "dataframe = pd.DataFrame({\"A\": [\"foo\", \"foo\", \"foo\", \"foo\", \"foo\",\n",
    "                         \"bar\", \"bar\", \"bar\", \"bar\"],\n",
    "                    \"B\": [\"one\", \"one\", \"one\", \"two\", \"two\",\n",
    "                          \"one\", \"one\", \"two\", \"two\"],\n",
    "                    \"C\": [\"small\", \"large\", \"large\", \"small\",\n",
    "                          \"small\", \"large\", \"small\", \"small\",\n",
    "                          \"large\"],\n",
    "                    \"D\": [1, 2, 2, 3, 3, 4, 5, 6, 7],\n",
    "                    \"E\": [2, 4, 5, 5, 6, 6, 8, 9, 9]})"
   ]
  },
  {
   "cell_type": "code",
   "execution_count": 20,
   "id": "b7212635",
   "metadata": {},
   "outputs": [
    {
     "name": "stdout",
     "output_type": "stream",
     "text": [
      "     A    B      C  D  E\n",
      "0  foo  one  small  1  2\n",
      "1  foo  one  large  2  4\n",
      "2  foo  one  large  2  5\n",
      "3  foo  two  small  3  5\n",
      "4  foo  two  small  3  6\n",
      "5  bar  one  large  4  6\n",
      "6  bar  one  small  5  8\n",
      "7  bar  two  small  6  9\n",
      "8  bar  two  large  7  9\n"
     ]
    }
   ],
   "source": [
    "print(dataframe)"
   ]
  },
  {
   "cell_type": "code",
   "execution_count": 21,
   "id": "dad0b835",
   "metadata": {},
   "outputs": [
    {
     "data": {
      "text/html": [
       "<div>\n",
       "<style scoped>\n",
       "    .dataframe tbody tr th:only-of-type {\n",
       "        vertical-align: middle;\n",
       "    }\n",
       "\n",
       "    .dataframe tbody tr th {\n",
       "        vertical-align: top;\n",
       "    }\n",
       "\n",
       "    .dataframe thead th {\n",
       "        text-align: right;\n",
       "    }\n",
       "</style>\n",
       "<table border=\"1\" class=\"dataframe\">\n",
       "  <thead>\n",
       "    <tr style=\"text-align: right;\">\n",
       "      <th></th>\n",
       "      <th>D</th>\n",
       "      <th>E</th>\n",
       "    </tr>\n",
       "  </thead>\n",
       "  <tbody>\n",
       "    <tr>\n",
       "      <th>count</th>\n",
       "      <td>9.000000</td>\n",
       "      <td>9.000000</td>\n",
       "    </tr>\n",
       "    <tr>\n",
       "      <th>mean</th>\n",
       "      <td>3.666667</td>\n",
       "      <td>6.000000</td>\n",
       "    </tr>\n",
       "    <tr>\n",
       "      <th>std</th>\n",
       "      <td>2.000000</td>\n",
       "      <td>2.345208</td>\n",
       "    </tr>\n",
       "    <tr>\n",
       "      <th>min</th>\n",
       "      <td>1.000000</td>\n",
       "      <td>2.000000</td>\n",
       "    </tr>\n",
       "    <tr>\n",
       "      <th>25%</th>\n",
       "      <td>2.000000</td>\n",
       "      <td>5.000000</td>\n",
       "    </tr>\n",
       "    <tr>\n",
       "      <th>50%</th>\n",
       "      <td>3.000000</td>\n",
       "      <td>6.000000</td>\n",
       "    </tr>\n",
       "    <tr>\n",
       "      <th>75%</th>\n",
       "      <td>5.000000</td>\n",
       "      <td>8.000000</td>\n",
       "    </tr>\n",
       "    <tr>\n",
       "      <th>max</th>\n",
       "      <td>7.000000</td>\n",
       "      <td>9.000000</td>\n",
       "    </tr>\n",
       "  </tbody>\n",
       "</table>\n",
       "</div>"
      ],
      "text/plain": [
       "              D         E\n",
       "count  9.000000  9.000000\n",
       "mean   3.666667  6.000000\n",
       "std    2.000000  2.345208\n",
       "min    1.000000  2.000000\n",
       "25%    2.000000  5.000000\n",
       "50%    3.000000  6.000000\n",
       "75%    5.000000  8.000000\n",
       "max    7.000000  9.000000"
      ]
     },
     "execution_count": 21,
     "metadata": {},
     "output_type": "execute_result"
    }
   ],
   "source": [
    "dataframe.describe()"
   ]
  },
  {
   "cell_type": "code",
   "execution_count": 22,
   "id": "35a59f6e",
   "metadata": {},
   "outputs": [
    {
     "data": {
      "text/plain": [
       "A\n",
       "bar    5.5\n",
       "foo    2.2\n",
       "Name: D, dtype: float64"
      ]
     },
     "execution_count": 22,
     "metadata": {},
     "output_type": "execute_result"
    }
   ],
   "source": [
    "# replacement for dataframe.groupby() is pd.pivot_table()\n",
    "\n",
    "dataframe.groupby('A')['D'].mean()\n"
   ]
  },
  {
   "cell_type": "code",
   "execution_count": 23,
   "id": "2210ad0b",
   "metadata": {},
   "outputs": [
    {
     "data": {
      "text/plain": [
       "B\n",
       "one    2.80\n",
       "two    4.75\n",
       "Name: D, dtype: float64"
      ]
     },
     "execution_count": 23,
     "metadata": {},
     "output_type": "execute_result"
    }
   ],
   "source": [
    "dataframe.groupby('B')['D'].mean()\n"
   ]
  },
  {
   "cell_type": "code",
   "execution_count": 25,
   "id": "334694d1",
   "metadata": {},
   "outputs": [
    {
     "name": "stdout",
     "output_type": "stream",
     "text": [
      "C    large     small\n",
      "A                   \n",
      "bar    5.5  5.500000\n",
      "foo    2.0  2.333333\n"
     ]
    }
   ],
   "source": [
    "import numpy as np\n",
    "tbl = pd.pivot_table(dataframe,values='D',index=['A'],columns='C',aggfunc=np.mean)\n",
    "print(tbl)"
   ]
  },
  {
   "cell_type": "code",
   "execution_count": 26,
   "id": "02d1f219",
   "metadata": {},
   "outputs": [
    {
     "name": "stdout",
     "output_type": "stream",
     "text": [
      "C       large  small\n",
      "B                   \n",
      "one  2.666667    3.0\n",
      "two  7.000000    4.0\n"
     ]
    }
   ],
   "source": [
    "tbl = pd.pivot_table(dataframe,values='D',index=['B'],columns='C',aggfunc=np.mean)\n",
    "print(tbl)"
   ]
  },
  {
   "cell_type": "code",
   "execution_count": 27,
   "id": "408366e7",
   "metadata": {},
   "outputs": [
    {
     "name": "stdout",
     "output_type": "stream",
     "text": [
      "C        large  small\n",
      "A   B                \n",
      "bar one    4.0    5.0\n",
      "    two    7.0    6.0\n",
      "foo one    2.0    1.0\n",
      "    two    NaN    3.0\n"
     ]
    }
   ],
   "source": [
    "tbl = pd.pivot_table(dataframe,values='D',index=['A','B'],columns='C',aggfunc=np.mean)\n",
    "print(tbl)"
   ]
  },
  {
   "cell_type": "code",
   "execution_count": 31,
   "id": "fbb4b52f",
   "metadata": {},
   "outputs": [
    {
     "name": "stdout",
     "output_type": "stream",
     "text": [
      "C        large  small\n",
      "A   B                \n",
      "bar one      4      5\n",
      "    two      7      6\n",
      "foo one      2      1\n",
      "    two      0      3\n"
     ]
    }
   ],
   "source": [
    "tbl = pd.pivot_table(dataframe,values='D',index=['A','B'],columns='C',aggfunc=np.mean,fill_value=0)\n",
    "print(tbl)"
   ]
  },
  {
   "cell_type": "code",
   "execution_count": 33,
   "id": "4c61a5c4",
   "metadata": {},
   "outputs": [
    {
     "name": "stdout",
     "output_type": "stream",
     "text": [
      "C        large  small\n",
      "A   B                \n",
      "bar one      4      5\n",
      "    two      7      6\n",
      "foo one      4      1\n",
      "    two      0      6\n"
     ]
    }
   ],
   "source": [
    "tbl = pd.pivot_table(dataframe,values='D',index=['A','B'],columns='C',aggfunc=np.sum,fill_value=0)\n",
    "print(tbl)"
   ]
  },
  {
   "cell_type": "code",
   "execution_count": 34,
   "id": "45577cad",
   "metadata": {},
   "outputs": [
    {
     "name": "stdout",
     "output_type": "stream",
     "text": [
      "C        large  small\n",
      "A   B                \n",
      "bar one      4      5\n",
      "    two      7      6\n",
      "foo one      2      1\n",
      "    two      0      3\n"
     ]
    }
   ],
   "source": [
    "tbl = pd.pivot_table(dataframe,values='D',index=['A','B'],columns='C',aggfunc=np.max,fill_value=0)\n",
    "print(tbl)"
   ]
  },
  {
   "cell_type": "code",
   "execution_count": 36,
   "id": "19b3bdcd",
   "metadata": {},
   "outputs": [
    {
     "name": "stdout",
     "output_type": "stream",
     "text": [
      "            D           E      \n",
      "C       large small large small\n",
      "A   B                          \n",
      "bar one     4     5   6.0   8.0\n",
      "    two     7     6   9.0   9.0\n",
      "foo one     4     1   4.5   2.0\n",
      "    two     0     6   0.0   5.5\n"
     ]
    }
   ],
   "source": [
    "tbl = pd.pivot_table(dataframe,values=['D','E'],index=['A','B'],columns='C',aggfunc={'D':np.sum,'E':np.mean},fill_value=0)\n",
    "print(tbl)"
   ]
  },
  {
   "cell_type": "code",
   "execution_count": 41,
   "id": "40c0f99c",
   "metadata": {},
   "outputs": [
    {
     "data": {
      "text/html": [
       "<div>\n",
       "<style scoped>\n",
       "    .dataframe tbody tr th:only-of-type {\n",
       "        vertical-align: middle;\n",
       "    }\n",
       "\n",
       "    .dataframe tbody tr th {\n",
       "        vertical-align: top;\n",
       "    }\n",
       "\n",
       "    .dataframe thead tr th {\n",
       "        text-align: left;\n",
       "    }\n",
       "\n",
       "    .dataframe thead tr:last-of-type th {\n",
       "        text-align: right;\n",
       "    }\n",
       "</style>\n",
       "<table border=\"1\" class=\"dataframe\">\n",
       "  <thead>\n",
       "    <tr>\n",
       "      <th></th>\n",
       "      <th colspan=\"2\" halign=\"left\">D</th>\n",
       "      <th colspan=\"2\" halign=\"left\">E</th>\n",
       "    </tr>\n",
       "    <tr>\n",
       "      <th>C</th>\n",
       "      <th>large</th>\n",
       "      <th>small</th>\n",
       "      <th>large</th>\n",
       "      <th>small</th>\n",
       "    </tr>\n",
       "    <tr>\n",
       "      <th>B</th>\n",
       "      <th></th>\n",
       "      <th></th>\n",
       "      <th></th>\n",
       "      <th></th>\n",
       "    </tr>\n",
       "  </thead>\n",
       "  <tbody>\n",
       "    <tr>\n",
       "      <th>one</th>\n",
       "      <td>8</td>\n",
       "      <td>6</td>\n",
       "      <td>5</td>\n",
       "      <td>5.000000</td>\n",
       "    </tr>\n",
       "    <tr>\n",
       "      <th>two</th>\n",
       "      <td>7</td>\n",
       "      <td>12</td>\n",
       "      <td>9</td>\n",
       "      <td>6.666667</td>\n",
       "    </tr>\n",
       "  </tbody>\n",
       "</table>\n",
       "</div>"
      ],
      "text/plain": [
       "        D           E          \n",
       "C   large small large     small\n",
       "B                              \n",
       "one     8     6     5  5.000000\n",
       "two     7    12     9  6.666667"
      ]
     },
     "execution_count": 41,
     "metadata": {},
     "output_type": "execute_result"
    }
   ],
   "source": [
    "tbl = pd.pivot_table(dataframe,values=['D','E'],index=['B'],columns='C',aggfunc={'D':np.sum,'E':np.mean},fill_value=0)\n",
    "tbl"
   ]
  },
  {
   "cell_type": "code",
   "execution_count": 40,
   "id": "0561b416",
   "metadata": {},
   "outputs": [
    {
     "data": {
      "text/html": [
       "<div>\n",
       "<style scoped>\n",
       "    .dataframe tbody tr th:only-of-type {\n",
       "        vertical-align: middle;\n",
       "    }\n",
       "\n",
       "    .dataframe tbody tr th {\n",
       "        vertical-align: top;\n",
       "    }\n",
       "\n",
       "    .dataframe thead tr th {\n",
       "        text-align: left;\n",
       "    }\n",
       "\n",
       "    .dataframe thead tr:last-of-type th {\n",
       "        text-align: right;\n",
       "    }\n",
       "</style>\n",
       "<table border=\"1\" class=\"dataframe\">\n",
       "  <thead>\n",
       "    <tr>\n",
       "      <th></th>\n",
       "      <th colspan=\"2\" halign=\"left\">D</th>\n",
       "      <th colspan=\"6\" halign=\"left\">E</th>\n",
       "    </tr>\n",
       "    <tr>\n",
       "      <th></th>\n",
       "      <th colspan=\"2\" halign=\"left\">sum</th>\n",
       "      <th colspan=\"2\" halign=\"left\">max</th>\n",
       "      <th colspan=\"2\" halign=\"left\">mean</th>\n",
       "      <th colspan=\"2\" halign=\"left\">min</th>\n",
       "    </tr>\n",
       "    <tr>\n",
       "      <th>C</th>\n",
       "      <th>large</th>\n",
       "      <th>small</th>\n",
       "      <th>large</th>\n",
       "      <th>small</th>\n",
       "      <th>large</th>\n",
       "      <th>small</th>\n",
       "      <th>large</th>\n",
       "      <th>small</th>\n",
       "    </tr>\n",
       "    <tr>\n",
       "      <th>B</th>\n",
       "      <th></th>\n",
       "      <th></th>\n",
       "      <th></th>\n",
       "      <th></th>\n",
       "      <th></th>\n",
       "      <th></th>\n",
       "      <th></th>\n",
       "      <th></th>\n",
       "    </tr>\n",
       "  </thead>\n",
       "  <tbody>\n",
       "    <tr>\n",
       "      <th>one</th>\n",
       "      <td>8</td>\n",
       "      <td>6</td>\n",
       "      <td>6</td>\n",
       "      <td>8</td>\n",
       "      <td>5</td>\n",
       "      <td>5.000000</td>\n",
       "      <td>4</td>\n",
       "      <td>2</td>\n",
       "    </tr>\n",
       "    <tr>\n",
       "      <th>two</th>\n",
       "      <td>7</td>\n",
       "      <td>12</td>\n",
       "      <td>9</td>\n",
       "      <td>9</td>\n",
       "      <td>9</td>\n",
       "      <td>6.666667</td>\n",
       "      <td>9</td>\n",
       "      <td>5</td>\n",
       "    </tr>\n",
       "  </tbody>\n",
       "</table>\n",
       "</div>"
      ],
      "text/plain": [
       "        D           E                                  \n",
       "      sum         max        mean             min      \n",
       "C   large small large small large     small large small\n",
       "B                                                      \n",
       "one     8     6     6     8     5  5.000000     4     2\n",
       "two     7    12     9     9     9  6.666667     9     5"
      ]
     },
     "execution_count": 40,
     "metadata": {},
     "output_type": "execute_result"
    }
   ],
   "source": [
    "tbl = pd.pivot_table(dataframe,values=['D','E'],index=['B'],columns='C',aggfunc={'D':np.sum,'E':[min,max,np.mean]},fill_value=0)\n",
    "tbl"
   ]
  },
  {
   "cell_type": "code",
   "execution_count": null,
   "id": "0e41f7b3",
   "metadata": {},
   "outputs": [],
   "source": []
  },
  {
   "cell_type": "code",
   "execution_count": null,
   "id": "5d5d33c5",
   "metadata": {},
   "outputs": [],
   "source": []
  },
  {
   "cell_type": "code",
   "execution_count": null,
   "id": "91a4626d",
   "metadata": {},
   "outputs": [],
   "source": []
  },
  {
   "cell_type": "code",
   "execution_count": null,
   "id": "bdc354c6",
   "metadata": {},
   "outputs": [],
   "source": []
  },
  {
   "cell_type": "code",
   "execution_count": null,
   "id": "09717a51",
   "metadata": {},
   "outputs": [],
   "source": []
  },
  {
   "cell_type": "code",
   "execution_count": null,
   "id": "25e43596",
   "metadata": {},
   "outputs": [],
   "source": []
  },
  {
   "cell_type": "code",
   "execution_count": null,
   "id": "77ab775d",
   "metadata": {},
   "outputs": [],
   "source": []
  },
  {
   "cell_type": "code",
   "execution_count": null,
   "id": "ef60d879",
   "metadata": {},
   "outputs": [],
   "source": []
  },
  {
   "cell_type": "code",
   "execution_count": null,
   "id": "de9563e3",
   "metadata": {},
   "outputs": [],
   "source": []
  },
  {
   "cell_type": "code",
   "execution_count": null,
   "id": "a041e2d3",
   "metadata": {},
   "outputs": [],
   "source": []
  },
  {
   "cell_type": "code",
   "execution_count": null,
   "id": "fd068475",
   "metadata": {},
   "outputs": [],
   "source": []
  },
  {
   "cell_type": "code",
   "execution_count": null,
   "id": "c0862f15",
   "metadata": {},
   "outputs": [],
   "source": []
  },
  {
   "cell_type": "code",
   "execution_count": null,
   "id": "6aa74575",
   "metadata": {},
   "outputs": [],
   "source": []
  },
  {
   "cell_type": "code",
   "execution_count": null,
   "id": "816379f6",
   "metadata": {},
   "outputs": [],
   "source": []
  },
  {
   "cell_type": "code",
   "execution_count": null,
   "id": "09e3ae3d",
   "metadata": {},
   "outputs": [],
   "source": []
  },
  {
   "cell_type": "code",
   "execution_count": null,
   "id": "a46d3d18",
   "metadata": {},
   "outputs": [],
   "source": []
  },
  {
   "cell_type": "code",
   "execution_count": null,
   "id": "9e39c39a",
   "metadata": {},
   "outputs": [],
   "source": []
  },
  {
   "cell_type": "code",
   "execution_count": null,
   "id": "903cb632",
   "metadata": {},
   "outputs": [],
   "source": []
  },
  {
   "cell_type": "code",
   "execution_count": null,
   "id": "f71c6f6d",
   "metadata": {},
   "outputs": [],
   "source": []
  },
  {
   "cell_type": "code",
   "execution_count": null,
   "id": "7e7a6c25",
   "metadata": {},
   "outputs": [],
   "source": []
  },
  {
   "cell_type": "code",
   "execution_count": null,
   "id": "ddcd5f2d",
   "metadata": {},
   "outputs": [],
   "source": []
  },
  {
   "cell_type": "code",
   "execution_count": null,
   "id": "3834c2cc",
   "metadata": {},
   "outputs": [],
   "source": []
  },
  {
   "cell_type": "code",
   "execution_count": null,
   "id": "7a4bfeda",
   "metadata": {},
   "outputs": [],
   "source": []
  },
  {
   "cell_type": "code",
   "execution_count": null,
   "id": "43f7b3f5",
   "metadata": {},
   "outputs": [],
   "source": []
  },
  {
   "cell_type": "code",
   "execution_count": null,
   "id": "260fb6fd",
   "metadata": {},
   "outputs": [],
   "source": []
  },
  {
   "cell_type": "code",
   "execution_count": null,
   "id": "08534760",
   "metadata": {},
   "outputs": [],
   "source": []
  },
  {
   "cell_type": "code",
   "execution_count": null,
   "id": "644dafef",
   "metadata": {},
   "outputs": [],
   "source": []
  },
  {
   "cell_type": "code",
   "execution_count": null,
   "id": "4988ec3d",
   "metadata": {},
   "outputs": [],
   "source": []
  },
  {
   "cell_type": "code",
   "execution_count": null,
   "id": "86170f31",
   "metadata": {},
   "outputs": [],
   "source": []
  }
 ],
 "metadata": {
  "kernelspec": {
   "display_name": "Python 3 (ipykernel)",
   "language": "python",
   "name": "python3"
  },
  "language_info": {
   "codemirror_mode": {
    "name": "ipython",
    "version": 3
   },
   "file_extension": ".py",
   "mimetype": "text/x-python",
   "name": "python",
   "nbconvert_exporter": "python",
   "pygments_lexer": "ipython3",
   "version": "3.11.2"
  }
 },
 "nbformat": 4,
 "nbformat_minor": 5
}
