{
 "cells": [
  {
   "cell_type": "code",
   "execution_count": null,
   "metadata": {
    "_cell_guid": "b1076dfc-b9ad-4769-8c92-a6c4dae69d19",
    "_uuid": "8f2839f25d086af736a60e9eeb907d3b93b6e0e5",
    "execution": {
     "iopub.execute_input": "2023-03-28T07:26:29.392569Z",
     "iopub.status.busy": "2023-03-28T07:26:29.392103Z",
     "iopub.status.idle": "2023-03-28T07:26:29.404635Z",
     "shell.execute_reply": "2023-03-28T07:26:29.402954Z",
     "shell.execute_reply.started": "2023-03-28T07:26:29.392533Z"
    }
   },
   "outputs": [],
   "source": [
    "# This Python 3 environment comes with many helpful analytics libraries installed\n",
    "# It is defined by the kaggle/python Docker image: https://github.com/kaggle/docker-python\n",
    "# For example, here's several helpful packages to load\n",
    "\n",
    "import numpy as np # linear algebra\n",
    "import pandas as pd # data processing, CSV file I/O (e.g. pd.read_csv)\n",
    "\n",
    "# Input data files are available in the read-only \"../input/\" directory\n",
    "# For example, running this (by clicking run or pressing Shift+Enter) will list all files under the input directory\n",
    "\n",
    "import os\n",
    "for dirname, _, filenames in os.walk('/kaggle/input'):\n",
    "    for filename in filenames:\n",
    "        print(os.path.join(dirname, filename))\n",
    "\n",
    "# You can write up to 20GB to the current directory (/kaggle/working/) that gets preserved as output when you create a version using \"Save & Run All\" \n",
    "# You can also write temporary files to /kaggle/temp/, but they won't be saved outside of the current session"
   ]
  },
  {
   "cell_type": "code",
   "execution_count": null,
   "metadata": {
    "execution": {
     "iopub.execute_input": "2023-03-28T07:26:29.408308Z",
     "iopub.status.busy": "2023-03-28T07:26:29.406888Z",
     "iopub.status.idle": "2023-03-28T07:26:29.960923Z",
     "shell.execute_reply": "2023-03-28T07:26:29.959893Z",
     "shell.execute_reply.started": "2023-03-28T07:26:29.408254Z"
    }
   },
   "outputs": [],
   "source": [
    "# Loading the deliveries data as df\n",
    "df=pd.read_csv('/kaggle/input/ipldata/deliveries.csv',index_col='match_id')"
   ]
  },
  {
   "cell_type": "code",
   "execution_count": null,
   "metadata": {
    "execution": {
     "iopub.execute_input": "2023-03-28T07:26:29.963995Z",
     "iopub.status.busy": "2023-03-28T07:26:29.962733Z",
     "iopub.status.idle": "2023-03-28T07:26:29.995046Z",
     "shell.execute_reply": "2023-03-28T07:26:29.993579Z",
     "shell.execute_reply.started": "2023-03-28T07:26:29.963945Z"
    }
   },
   "outputs": [],
   "source": [
    "df"
   ]
  },
  {
   "cell_type": "code",
   "execution_count": null,
   "metadata": {
    "execution": {
     "iopub.execute_input": "2023-03-28T07:26:29.997252Z",
     "iopub.status.busy": "2023-03-28T07:26:29.996613Z",
     "iopub.status.idle": "2023-03-28T07:26:30.254626Z",
     "shell.execute_reply": "2023-03-28T07:26:30.253218Z",
     "shell.execute_reply.started": "2023-03-28T07:26:29.997204Z"
    }
   },
   "outputs": [],
   "source": [
    "# Checking the info and and type of features\n",
    "df.info()"
   ]
  },
  {
   "cell_type": "code",
   "execution_count": null,
   "metadata": {
    "execution": {
     "iopub.execute_input": "2023-03-28T07:26:30.257643Z",
     "iopub.status.busy": "2023-03-28T07:26:30.257273Z",
     "iopub.status.idle": "2023-03-28T07:26:30.333594Z",
     "shell.execute_reply": "2023-03-28T07:26:30.332237Z",
     "shell.execute_reply.started": "2023-03-28T07:26:30.25761Z"
    }
   },
   "outputs": [],
   "source": [
    "# Finding the null value counts\n",
    "df.isnull().sum()"
   ]
  },
  {
   "cell_type": "code",
   "execution_count": null,
   "metadata": {
    "execution": {
     "iopub.execute_input": "2023-03-28T07:26:30.336002Z",
     "iopub.status.busy": "2023-03-28T07:26:30.335402Z",
     "iopub.status.idle": "2023-03-28T07:26:30.430524Z",
     "shell.execute_reply": "2023-03-28T07:26:30.429211Z",
     "shell.execute_reply.started": "2023-03-28T07:26:30.335948Z"
    }
   },
   "outputs": [],
   "source": [
    "# Dropping the Null value columns as they are having large number of null values\n",
    "df.dropna(axis=1,inplace=True)"
   ]
  },
  {
   "cell_type": "code",
   "execution_count": null,
   "metadata": {
    "execution": {
     "iopub.execute_input": "2023-03-28T07:26:30.432763Z",
     "iopub.status.busy": "2023-03-28T07:26:30.432007Z",
     "iopub.status.idle": "2023-03-28T07:26:30.492895Z",
     "shell.execute_reply": "2023-03-28T07:26:30.491796Z",
     "shell.execute_reply.started": "2023-03-28T07:26:30.432724Z"
    }
   },
   "outputs": [],
   "source": [
    "df.isnull().sum()"
   ]
  },
  {
   "cell_type": "code",
   "execution_count": null,
   "metadata": {
    "execution": {
     "iopub.execute_input": "2023-03-28T07:26:30.497049Z",
     "iopub.status.busy": "2023-03-28T07:26:30.496039Z",
     "iopub.status.idle": "2023-03-28T07:26:30.503579Z",
     "shell.execute_reply": "2023-03-28T07:26:30.502167Z",
     "shell.execute_reply.started": "2023-03-28T07:26:30.497004Z"
    }
   },
   "outputs": [],
   "source": [
    "# importing plotting library matplot.\n",
    "import matplotlib.pyplot as plt\n",
    "plt.style.use('dark_background')# changing the plot style to dark background."
   ]
  },
  {
   "cell_type": "markdown",
   "metadata": {},
   "source": [
    "## Q1.Who is the leading run scorer in the ipl?"
   ]
  },
  {
   "cell_type": "code",
   "execution_count": null,
   "metadata": {
    "execution": {
     "iopub.execute_input": "2023-03-28T07:26:30.505817Z",
     "iopub.status.busy": "2023-03-28T07:26:30.505298Z",
     "iopub.status.idle": "2023-03-28T07:26:30.543743Z",
     "shell.execute_reply": "2023-03-28T07:26:30.542377Z",
     "shell.execute_reply.started": "2023-03-28T07:26:30.505762Z"
    }
   },
   "outputs": [],
   "source": [
    "# Grouping the data according to batsman and getting the total sum of runs of respective batsman.\n",
    "# selecting top 10 batsman only\n",
    "q1=df.groupby('batsman')['batsman_runs'].sum().sort_values(ascending=False).head(10)\n",
    "q1=pd.DataFrame(q1) # Changing the format in dataframe.\n",
    "q1"
   ]
  },
  {
   "cell_type": "code",
   "execution_count": null,
   "metadata": {
    "execution": {
     "iopub.execute_input": "2023-03-28T07:26:30.546265Z",
     "iopub.status.busy": "2023-03-28T07:26:30.545389Z",
     "iopub.status.idle": "2023-03-28T07:26:30.857196Z",
     "shell.execute_reply": "2023-03-28T07:26:30.855205Z",
     "shell.execute_reply.started": "2023-03-28T07:26:30.546207Z"
    }
   },
   "outputs": [],
   "source": [
    "# Plotting the data for total runs scored to answer the question raised.\n",
    "q1.plot(kind='bar',figsize=(7,7),grid=True,title='Top Performing Batsman',xlabel='Batsman',ylabel='Total runs scored',legend=False)"
   ]
  },
  {
   "cell_type": "markdown",
   "metadata": {},
   "source": [
    "### Top leading batsman in IPL 2008 to 2019 is Virat Kohli .\n"
   ]
  },
  {
   "cell_type": "markdown",
   "metadata": {},
   "source": [
    "## Q2.Who received the most player of the match award?"
   ]
  },
  {
   "cell_type": "code",
   "execution_count": null,
   "metadata": {
    "execution": {
     "iopub.execute_input": "2023-03-28T07:26:30.863727Z",
     "iopub.status.busy": "2023-03-28T07:26:30.863257Z",
     "iopub.status.idle": "2023-03-28T07:26:30.902013Z",
     "shell.execute_reply": "2023-03-28T07:26:30.900639Z",
     "shell.execute_reply.started": "2023-03-28T07:26:30.863678Z"
    }
   },
   "outputs": [],
   "source": [
    "# Loading the 2nd dataset of matches as df2.\n",
    "df2=pd.read_csv('/kaggle/input/ipldata/matches.csv')\n",
    "df2"
   ]
  },
  {
   "cell_type": "code",
   "execution_count": null,
   "metadata": {
    "execution": {
     "iopub.execute_input": "2023-03-28T07:26:30.904072Z",
     "iopub.status.busy": "2023-03-28T07:26:30.903648Z",
     "iopub.status.idle": "2023-03-28T07:26:30.91269Z",
     "shell.execute_reply": "2023-03-28T07:26:30.911045Z",
     "shell.execute_reply.started": "2023-03-28T07:26:30.90403Z"
    }
   },
   "outputs": [],
   "source": [
    "df2.columns # Checking the coloumns."
   ]
  },
  {
   "cell_type": "code",
   "execution_count": null,
   "metadata": {
    "execution": {
     "iopub.execute_input": "2023-03-28T07:26:30.91446Z",
     "iopub.status.busy": "2023-03-28T07:26:30.914093Z",
     "iopub.status.idle": "2023-03-28T07:26:30.931744Z",
     "shell.execute_reply": "2023-03-28T07:26:30.930204Z",
     "shell.execute_reply.started": "2023-03-28T07:26:30.914424Z"
    }
   },
   "outputs": [],
   "source": [
    "# getting of top 5 players who has been player of the match.\n",
    "q2=df2['player_of_match'].value_counts().head(5)\n",
    "q2"
   ]
  },
  {
   "cell_type": "code",
   "execution_count": null,
   "metadata": {
    "execution": {
     "iopub.execute_input": "2023-03-28T07:26:30.933864Z",
     "iopub.status.busy": "2023-03-28T07:26:30.933298Z",
     "iopub.status.idle": "2023-03-28T07:26:31.224271Z",
     "shell.execute_reply": "2023-03-28T07:26:31.222935Z",
     "shell.execute_reply.started": "2023-03-28T07:26:30.933754Z"
    }
   },
   "outputs": [],
   "source": [
    "# Plotting the above analysis to confirm the answer.\n",
    "q2.plot(kind='bar',figsize=(7,7),grid=True,title='Top Player of the match',xlabel='Batsman',ylabel='Number of player of match won',legend=False)"
   ]
  },
  {
   "cell_type": "markdown",
   "metadata": {},
   "source": [
    "### Chris Gayle was the most rewarded with player of the match."
   ]
  },
  {
   "cell_type": "markdown",
   "metadata": {},
   "source": [
    "## Q3.What is the biggest margin of wins by runs for each season?"
   ]
  },
  {
   "cell_type": "code",
   "execution_count": null,
   "metadata": {
    "execution": {
     "iopub.execute_input": "2023-03-28T07:26:31.226814Z",
     "iopub.status.busy": "2023-03-28T07:26:31.226397Z",
     "iopub.status.idle": "2023-03-28T07:26:31.23751Z",
     "shell.execute_reply": "2023-03-28T07:26:31.236491Z",
     "shell.execute_reply.started": "2023-03-28T07:26:31.226773Z"
    }
   },
   "outputs": [],
   "source": [
    "# Grouping by season and selecting win by runs colums for getting maximum value.\n",
    "q3=df2.groupby('season')['win_by_runs'].max()\n",
    "q3"
   ]
  },
  {
   "cell_type": "code",
   "execution_count": null,
   "metadata": {
    "execution": {
     "iopub.execute_input": "2023-03-28T07:26:31.239614Z",
     "iopub.status.busy": "2023-03-28T07:26:31.239233Z",
     "iopub.status.idle": "2023-03-28T07:26:31.561609Z",
     "shell.execute_reply": "2023-03-28T07:26:31.56034Z",
     "shell.execute_reply.started": "2023-03-28T07:26:31.239577Z"
    }
   },
   "outputs": [],
   "source": [
    "# Plotting the above data\n",
    "q3.plot(kind='bar',figsize=(7,7),grid=True,title='Biggest margin win by runs',xlabel='Season',ylabel='Win by Runs',legend=False)"
   ]
  },
  {
   "cell_type": "markdown",
   "metadata": {},
   "source": [
    "### The biggest margin by win was at the season of 2017."
   ]
  },
  {
   "cell_type": "code",
   "execution_count": null,
   "metadata": {
    "execution": {
     "iopub.execute_input": "2023-03-28T07:26:31.564355Z",
     "iopub.status.busy": "2023-03-28T07:26:31.563369Z",
     "iopub.status.idle": "2023-03-28T07:26:31.584738Z",
     "shell.execute_reply": "2023-03-28T07:26:31.582914Z",
     "shell.execute_reply.started": "2023-03-28T07:26:31.564308Z"
    }
   },
   "outputs": [],
   "source": [
    "df2[df2['win_by_runs']==146]"
   ]
  },
  {
   "cell_type": "markdown",
   "metadata": {},
   "source": [
    "### And the match was between Mumbai Indians and Delhi Daredevils won by Mumbai Indians."
   ]
  },
  {
   "cell_type": "markdown",
   "metadata": {},
   "source": [
    "## Q4. How many matches does each team played with their no. of matches won & their win percentage?"
   ]
  },
  {
   "cell_type": "code",
   "execution_count": null,
   "metadata": {
    "execution": {
     "iopub.execute_input": "2023-03-28T07:26:31.587702Z",
     "iopub.status.busy": "2023-03-28T07:26:31.586691Z",
     "iopub.status.idle": "2023-03-28T07:26:31.604647Z",
     "shell.execute_reply": "2023-03-28T07:26:31.603175Z",
     "shell.execute_reply.started": "2023-03-28T07:26:31.587638Z"
    }
   },
   "outputs": [],
   "source": [
    "# Getting value counts of each team as team 1 in data set\n",
    "t1=df2.team1.value_counts()\n",
    "t1"
   ]
  },
  {
   "cell_type": "code",
   "execution_count": null,
   "metadata": {
    "execution": {
     "iopub.execute_input": "2023-03-28T07:26:31.606785Z",
     "iopub.status.busy": "2023-03-28T07:26:31.606336Z",
     "iopub.status.idle": "2023-03-28T07:26:31.620113Z",
     "shell.execute_reply": "2023-03-28T07:26:31.61827Z",
     "shell.execute_reply.started": "2023-03-28T07:26:31.606733Z"
    }
   },
   "outputs": [],
   "source": [
    "# Getting value counts of each team as team 2 in data set\n",
    "t2=df2.team2.value_counts()\n",
    "t2"
   ]
  },
  {
   "cell_type": "code",
   "execution_count": null,
   "metadata": {
    "execution": {
     "iopub.execute_input": "2023-03-28T07:26:31.62236Z",
     "iopub.status.busy": "2023-03-28T07:26:31.621823Z",
     "iopub.status.idle": "2023-03-28T07:26:31.637403Z",
     "shell.execute_reply": "2023-03-28T07:26:31.636229Z",
     "shell.execute_reply.started": "2023-03-28T07:26:31.622321Z"
    }
   },
   "outputs": [],
   "source": [
    "# Adding the count of each team as team 1 and and team 2.\n",
    "tfinal=t1+t2\n",
    "tfinal=pd.DataFrame(tfinal)\n",
    "\n"
   ]
  },
  {
   "cell_type": "code",
   "execution_count": null,
   "metadata": {
    "execution": {
     "iopub.execute_input": "2023-03-28T07:26:31.639806Z",
     "iopub.status.busy": "2023-03-28T07:26:31.639056Z",
     "iopub.status.idle": "2023-03-28T07:26:31.654185Z",
     "shell.execute_reply": "2023-03-28T07:26:31.652669Z",
     "shell.execute_reply.started": "2023-03-28T07:26:31.639749Z"
    }
   },
   "outputs": [],
   "source": [
    "# Renameing the column with 0 label to Total Matches\n",
    "tfinal.rename(columns={0:'Total Matches'},inplace=True)"
   ]
  },
  {
   "cell_type": "code",
   "execution_count": null,
   "metadata": {
    "execution": {
     "iopub.execute_input": "2023-03-28T07:26:31.6568Z",
     "iopub.status.busy": "2023-03-28T07:26:31.656331Z",
     "iopub.status.idle": "2023-03-28T07:26:31.673892Z",
     "shell.execute_reply": "2023-03-28T07:26:31.672692Z",
     "shell.execute_reply.started": "2023-03-28T07:26:31.656751Z"
    }
   },
   "outputs": [],
   "source": [
    "# Adding new column to tfinal dataset which is winning count of each team\n",
    "tfinal['Matches Won']=df2.winner.value_counts()"
   ]
  },
  {
   "cell_type": "code",
   "execution_count": null,
   "metadata": {
    "execution": {
     "iopub.execute_input": "2023-03-28T07:26:31.675547Z",
     "iopub.status.busy": "2023-03-28T07:26:31.675149Z",
     "iopub.status.idle": "2023-03-28T07:26:31.690259Z",
     "shell.execute_reply": "2023-03-28T07:26:31.688969Z",
     "shell.execute_reply.started": "2023-03-28T07:26:31.675502Z"
    }
   },
   "outputs": [],
   "source": [
    "# Addng new column % of winning which obtain by this formula = (matches won*100)/ (Total matches played)\n",
    "tfinal['% of winning']=tfinal['Matches Won']*100/tfinal['Total Matches']\n",
    "tfinal['% of winning']=tfinal['% of winning'].round(2)\n"
   ]
  },
  {
   "cell_type": "code",
   "execution_count": null,
   "metadata": {
    "execution": {
     "iopub.execute_input": "2023-03-28T07:26:31.693042Z",
     "iopub.status.busy": "2023-03-28T07:26:31.692513Z",
     "iopub.status.idle": "2023-03-28T07:26:31.713211Z",
     "shell.execute_reply": "2023-03-28T07:26:31.711757Z",
     "shell.execute_reply.started": "2023-03-28T07:26:31.69292Z"
    }
   },
   "outputs": [],
   "source": [
    "tfinal"
   ]
  },
  {
   "cell_type": "code",
   "execution_count": null,
   "metadata": {
    "execution": {
     "iopub.execute_input": "2023-03-28T07:26:31.716332Z",
     "iopub.status.busy": "2023-03-28T07:26:31.71505Z",
     "iopub.status.idle": "2023-03-28T07:26:32.076873Z",
     "shell.execute_reply": "2023-03-28T07:26:32.075414Z",
     "shell.execute_reply.started": "2023-03-28T07:26:31.716237Z"
    }
   },
   "outputs": [],
   "source": [
    "# Plotting the % of winning column obtained above.\n",
    "tfinal['% of winning'].plot(kind='bar',figsize=(5,5),grid=True,title='% of winning',xlabel='Teams',ylabel='Matches Played',legend=False)"
   ]
  },
  {
   "cell_type": "markdown",
   "metadata": {},
   "source": [
    "### From above visualisation it is clear that Rising pune supergiants and Delhi Daredevils have same winning percentage that is 62.5% which is highest among all"
   ]
  },
  {
   "cell_type": "markdown",
   "metadata": {},
   "source": [
    "## Q5.Let's have a head to head stat between teams"
   ]
  },
  {
   "cell_type": "code",
   "execution_count": null,
   "metadata": {
    "execution": {
     "iopub.execute_input": "2023-03-28T07:26:32.079526Z",
     "iopub.status.busy": "2023-03-28T07:26:32.078973Z",
     "iopub.status.idle": "2023-03-28T07:26:32.087769Z",
     "shell.execute_reply": "2023-03-28T07:26:32.086414Z",
     "shell.execute_reply.started": "2023-03-28T07:26:32.079466Z"
    }
   },
   "outputs": [],
   "source": [
    "# Defining new function t1 and t2 which will be indaicating 2 different teams.\n",
    "def htha (t1,t2):\n",
    "    data=df2[((df2.team1 == t1) & (df2.team2 == t2)) | ((df2.team2 == t1) & (df2.team1 == t2))]\n",
    "    # in above statement data for given 2 teams are selected where they were in the form of team 1 and team 2 opposite to each other,\n",
    "    hth=data.winner.value_counts() # Getting the winning count by value count function,\n",
    "    hth.plot(kind='bar',figsize=(3,3),xlabel='Teams faced each other',ylabel='Number of Wins',title='Head To Head analysis', grid='True')\n",
    "    # Printing the analysis.\n",
    "    print('Teams :\\n',hth)\n",
    "    print(data)"
   ]
  },
  {
   "cell_type": "code",
   "execution_count": null,
   "metadata": {
    "execution": {
     "iopub.execute_input": "2023-03-28T07:26:32.090666Z",
     "iopub.status.busy": "2023-03-28T07:26:32.090139Z",
     "iopub.status.idle": "2023-03-28T07:26:32.334184Z",
     "shell.execute_reply": "2023-03-28T07:26:32.332993Z",
     "shell.execute_reply.started": "2023-03-28T07:26:32.090613Z"
    }
   },
   "outputs": [],
   "source": [
    "htha(\"Kolkata Knight Riders\", \"Mumbai Indians\") # selecting KRK and MI team for their face to face analysis."
   ]
  },
  {
   "cell_type": "markdown",
   "metadata": {},
   "source": [
    "# ----**THE END**----"
   ]
  }
 ],
 "metadata": {
  "kernelspec": {
   "display_name": "Python 3 (ipykernel)",
   "language": "python",
   "name": "python3"
  },
  "language_info": {
   "codemirror_mode": {
    "name": "ipython",
    "version": 3
   },
   "file_extension": ".py",
   "mimetype": "text/x-python",
   "name": "python",
   "nbconvert_exporter": "python",
   "pygments_lexer": "ipython3",
   "version": "3.11.2"
  }
 },
 "nbformat": 4,
 "nbformat_minor": 4
}
