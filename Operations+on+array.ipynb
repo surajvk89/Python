{
 "cells": [
  {
   "cell_type": "markdown",
   "metadata": {
    "id": "vkyKl1p95CGW"
   },
   "source": [
    "# Operations on NumPy Arrays\n",
    "\n"
   ]
  },
  {
   "cell_type": "markdown",
   "metadata": {
    "id": "JYa4s3o45CGf"
   },
   "source": [
    "### Manipulating Arrays\n",
    "\n",
    "Let's look at some ways to manipulate arrays, i.e. changing the shape, combining and splitting arrays, etc.   \n",
    "\n",
    "#### Reshaping Arrays\n",
    "\n",
    "Reshaping is done using the ```reshape()``` function.\n"
   ]
  },
  {
   "cell_type": "code",
   "execution_count": 8,
   "metadata": {
    "colab": {
     "base_uri": "https://localhost:8080/",
     "height": 68
    },
    "executionInfo": {
     "elapsed": 1128,
     "status": "ok",
     "timestamp": 1581056896037,
     "user": {
      "displayName": "Rahat Bhambri",
      "photoUrl": "",
      "userId": "04956211188134810147"
     },
     "user_tz": -330
    },
    "id": "VjRKJCLE5CGh",
    "outputId": "2402fca0-85c5-405e-a52d-f6aea8b2af05"
   },
   "outputs": [
    {
     "name": "stdout",
     "output_type": "stream",
     "text": [
      "[[10 11 12 13]\n",
      " [14 15 16 17]\n",
      " [18 19 20 21]]\n"
     ]
    }
   ],
   "source": [
    "import numpy as np\n",
    "\n",
    "# Reshape a 1-D array to a 3 x 4 array\n",
    "some_array = np.arange(10,22).reshape(3, 4)\n",
    "print(some_array)"
   ]
  },
  {
   "cell_type": "code",
   "execution_count": 12,
   "metadata": {},
   "outputs": [
    {
     "name": "stdout",
     "output_type": "stream",
     "text": [
      "[12 13]\n"
     ]
    }
   ],
   "source": [
    "print(some_array[0,-2:])"
   ]
  },
  {
   "cell_type": "code",
   "execution_count": 14,
   "metadata": {},
   "outputs": [
    {
     "name": "stdout",
     "output_type": "stream",
     "text": [
      "[11 15 19]\n"
     ]
    }
   ],
   "source": [
    "print(some_array[:,1])"
   ]
  },
  {
   "cell_type": "code",
   "execution_count": 16,
   "metadata": {},
   "outputs": [
    {
     "name": "stdout",
     "output_type": "stream",
     "text": [
      "[[12 13]\n",
      " [16 17]]\n"
     ]
    }
   ],
   "source": [
    "print(some_array[0:2,-2:])"
   ]
  },
  {
   "cell_type": "code",
   "execution_count": 17,
   "metadata": {},
   "outputs": [
    {
     "data": {
      "text/plain": [
       "(3, 4)"
      ]
     },
     "execution_count": 17,
     "metadata": {},
     "output_type": "execute_result"
    }
   ],
   "source": [
    "some_array.shape"
   ]
  },
  {
   "cell_type": "code",
   "execution_count": 18,
   "metadata": {
    "id": "k8jti6aL5CGq",
    "outputId": "482b51cc-0e10-4cb6-b3d2-05bd26adda3c"
   },
   "outputs": [
    {
     "data": {
      "text/plain": [
       "array([[10, 11, 12, 13, 14, 15],\n",
       "       [16, 17, 18, 19, 20, 21]])"
      ]
     },
     "execution_count": 18,
     "metadata": {},
     "output_type": "execute_result"
    }
   ],
   "source": [
    "# Can reshape it further \n",
    "some_array.reshape(2, 6)"
   ]
  },
  {
   "cell_type": "code",
   "execution_count": 19,
   "metadata": {},
   "outputs": [
    {
     "data": {
      "text/plain": [
       "array([[10, 11, 12],\n",
       "       [13, 14, 15],\n",
       "       [16, 17, 18],\n",
       "       [19, 20, 21]])"
      ]
     },
     "execution_count": 19,
     "metadata": {},
     "output_type": "execute_result"
    }
   ],
   "source": [
    "some_array.reshape(4,3)"
   ]
  },
  {
   "cell_type": "code",
   "execution_count": 25,
   "metadata": {
    "id": "w0WrF6sj5CGw",
    "outputId": "af018126-aa37-4675-b6df-4ce14164f59e"
   },
   "outputs": [
    {
     "data": {
      "text/plain": [
       "array([[10, 11],\n",
       "       [12, 13],\n",
       "       [14, 15],\n",
       "       [16, 17],\n",
       "       [18, 19],\n",
       "       [20, 21]])"
      ]
     },
     "execution_count": 25,
     "metadata": {},
     "output_type": "execute_result"
    }
   ],
   "source": [
    "# If you specify -1 as a dimension, the dimensions are automatically calculated\n",
    "# -1 means \"whatever dimension is needed\" \n",
    "some_array.reshape(6, -1)"
   ]
  },
  {
   "cell_type": "markdown",
   "metadata": {
    "id": "I9vazg105CG1"
   },
   "source": [
    "```array.T``` returns the transpose of an array."
   ]
  },
  {
   "cell_type": "code",
   "execution_count": 27,
   "metadata": {},
   "outputs": [
    {
     "data": {
      "text/plain": [
       "array([[10, 11, 12, 13],\n",
       "       [14, 15, 16, 17],\n",
       "       [18, 19, 20, 21]])"
      ]
     },
     "execution_count": 27,
     "metadata": {},
     "output_type": "execute_result"
    }
   ],
   "source": [
    "some_array"
   ]
  },
  {
   "cell_type": "code",
   "execution_count": 26,
   "metadata": {
    "id": "pxNbr8kp5CG2",
    "outputId": "01c2be11-1fcb-498c-d649-f7ec8412a785"
   },
   "outputs": [
    {
     "data": {
      "text/plain": [
       "array([[10, 14, 18],\n",
       "       [11, 15, 19],\n",
       "       [12, 16, 20],\n",
       "       [13, 17, 21]])"
      ]
     },
     "execution_count": 26,
     "metadata": {},
     "output_type": "execute_result"
    }
   ],
   "source": [
    "# Transposing an array\n",
    "some_array.T"
   ]
  },
  {
   "cell_type": "markdown",
   "metadata": {
    "id": "Yc8MzVoP5CHB"
   },
   "source": [
    "### Stacking and Splitting Arrays\n",
    "\n",
    "#### Stacking: ```np.hstack()``` and ```n.vstack()```\n",
    "\n",
    "Stacking is done using the ```np.hstack()``` and ```np.vstack()``` methods. For horizontal stacking, the number of rows should be the same, while for vertical stacking, the number of columns should be the same."
   ]
  },
  {
   "cell_type": "code",
   "execution_count": 28,
   "metadata": {
    "id": "EtxMnb9b5CHD",
    "outputId": "37f74a0d-d43c-4904-d13c-4806b2ad113f"
   },
   "outputs": [
    {
     "name": "stdout",
     "output_type": "stream",
     "text": [
      "[[ 0  1  2  3]\n",
      " [ 4  5  6  7]\n",
      " [ 8  9 10 11]]\n",
      "\n",
      "\n",
      "[[ 0  1  2  3]\n",
      " [ 4  5  6  7]\n",
      " [ 8  9 10 11]\n",
      " [12 13 14 15]\n",
      " [16 17 18 19]]\n"
     ]
    }
   ],
   "source": [
    "# Creating two arrays\n",
    "array_1 = np.arange(12).reshape(3, 4)\n",
    "array_2 = np.arange(20).reshape(5, 4)\n",
    "\n",
    "print(array_1)\n",
    "print(\"\\n\")\n",
    "print(array_2)"
   ]
  },
  {
   "cell_type": "code",
   "execution_count": null,
   "metadata": {
    "id": "C9xNuZ9O5CHI",
    "outputId": "d7bbd78e-e5c1-411b-de84-d34abe05439e"
   },
   "outputs": [
    {
     "data": {
      "text/plain": [
       "array([[ 0,  1,  2,  3],\n",
       "       [ 4,  5,  6,  7],\n",
       "       [ 8,  9, 10, 11],\n",
       "       [ 0,  1,  2,  3],\n",
       "       [ 4,  5,  6,  7],\n",
       "       [ 8,  9, 10, 11],\n",
       "       [12, 13, 14, 15],\n",
       "       [16, 17, 18, 19]])"
      ]
     },
     "execution_count": 6,
     "metadata": {
      "tags": []
     },
     "output_type": "execute_result"
    }
   ],
   "source": [
    "# vstack\n",
    "# Note that np.vstack(a, b) throws an error - you need to pass the arrays as a list\n",
    "np.vstack((array_1, array_2))"
   ]
  },
  {
   "cell_type": "code",
   "execution_count": 29,
   "metadata": {},
   "outputs": [
    {
     "name": "stdout",
     "output_type": "stream",
     "text": [
      "[[ 0  1  2]\n",
      " [ 3  4  5]\n",
      " [ 6  7  8]\n",
      " [ 9 10 11]]\n",
      "\n",
      "\n",
      "[[ 0  1  2  3  4]\n",
      " [ 5  6  7  8  9]\n",
      " [10 11 12 13 14]\n",
      " [15 16 17 18 19]]\n"
     ]
    }
   ],
   "source": [
    "array_1 = np.arange(12).reshape(4, 3)\n",
    "array_2 = np.arange(20).reshape(4, 5)\n",
    "\n",
    "print(array_1)\n",
    "print(\"\\n\")\n",
    "print(array_2)"
   ]
  },
  {
   "cell_type": "code",
   "execution_count": 31,
   "metadata": {},
   "outputs": [
    {
     "data": {
      "text/plain": [
       "array([[ 0,  1,  2,  0,  1,  2,  3,  4],\n",
       "       [ 3,  4,  5,  5,  6,  7,  8,  9],\n",
       "       [ 6,  7,  8, 10, 11, 12, 13, 14],\n",
       "       [ 9, 10, 11, 15, 16, 17, 18, 19]])"
      ]
     },
     "execution_count": 31,
     "metadata": {},
     "output_type": "execute_result"
    }
   ],
   "source": [
    "np.hstack((array_1,array_2))"
   ]
  },
  {
   "cell_type": "markdown",
   "metadata": {
    "id": "BMQOfD4y5CHN"
   },
   "source": [
    "Similarly, two arrays having the same number of rows can be horizontally stacked using ```np.hstack((a, b))```."
   ]
  },
  {
   "cell_type": "markdown",
   "metadata": {
    "id": "yh5aIBlu5CHP"
   },
   "source": [
    "### Perform Operations on Arrays\n",
    "\n",
    "Performing mathematical operations on arrays is extremely simple. Let's see some common operations.\n",
    "\n",
    "\n",
    "#### Basic Mathematical Operations\n",
    "\n",
    "NumPy provides almost all the basic math functions - exp, sin, cos, log, sqrt etc. The function is applied to each element of the array.\n"
   ]
  },
  {
   "cell_type": "code",
   "execution_count": 33,
   "metadata": {
    "id": "owAUWZe35CHQ",
    "outputId": "905cee78-baba-41c6-a06c-eba2d9eb857e"
   },
   "outputs": [
    {
     "name": "stdout",
     "output_type": "stream",
     "text": [
      "Sin  [ 0.84147098  0.90929743  0.14112001 -0.7568025  -0.95892427 -0.2794155\n",
      "  0.6569866   0.98935825  0.41211849 -0.54402111 -0.99999021 -0.53657292\n",
      "  0.42016704  0.99060736  0.65028784 -0.28790332 -0.96139749 -0.75098725\n",
      "  0.14987721]\n",
      "Cos  [ 0.54030231 -0.41614684 -0.9899925  -0.65364362  0.28366219  0.96017029\n",
      "  0.75390225 -0.14550003 -0.91113026 -0.83907153  0.0044257   0.84385396\n",
      "  0.90744678  0.13673722 -0.75968791 -0.95765948 -0.27516334  0.66031671\n",
      "  0.98870462]\n",
      "Exp  [2.71828183e+00 7.38905610e+00 2.00855369e+01 5.45981500e+01\n",
      " 1.48413159e+02 4.03428793e+02 1.09663316e+03 2.98095799e+03\n",
      " 8.10308393e+03 2.20264658e+04 5.98741417e+04 1.62754791e+05\n",
      " 4.42413392e+05 1.20260428e+06 3.26901737e+06 8.88611052e+06\n",
      " 2.41549528e+07 6.56599691e+07 1.78482301e+08]\n",
      "Log  [0.         0.69314718 1.09861229 1.38629436 1.60943791 1.79175947\n",
      " 1.94591015 2.07944154 2.19722458 2.30258509 2.39789527 2.48490665\n",
      " 2.56494936 2.63905733 2.7080502  2.77258872 2.83321334 2.89037176\n",
      " 2.94443898]\n"
     ]
    }
   ],
   "source": [
    "# Basic mathematical operations\n",
    "a = np.arange(1, 20)\n",
    "\n",
    "# sin, cos, exp, log\n",
    "print(\"Sin \", np.sin(a))\n",
    "print(\"Cos \", np.cos(a))\n",
    "print(\"Exp \", np.exp(a))\n",
    "print(\"Log \", np.log(a))"
   ]
  },
  {
   "cell_type": "markdown",
   "metadata": {
    "id": "emXQXhsB5CHV"
   },
   "source": [
    "#### Apply User Defined Functions\n",
    "\n",
    "You can also apply your own functions on arrays. For e.g. applying the function ```x/(x+1)``` to each element of an array.\n",
    "\n",
    "One way to do that is by looping through the array, which is the non-numpy way. You would rather want to write **vectorised code**. \n",
    "\n",
    "The simplest way to do that is to vectorise the function you want, and then apply it on the array. Numpy provides the ```np.vectorize()``` method to vectorise functions.\n",
    "\n",
    "Let's look at both the ways to do it."
   ]
  },
  {
   "cell_type": "code",
   "execution_count": 34,
   "metadata": {
    "id": "dyPLk27t5CHX",
    "outputId": "8b4e6865-d7d2-4e6d-b83f-84ba8393fdac"
   },
   "outputs": [
    {
     "name": "stdout",
     "output_type": "stream",
     "text": [
      "[ 1  2  3  4  5  6  7  8  9 10 11 12 13 14 15 16 17 18 19]\n"
     ]
    }
   ],
   "source": [
    "print(a)"
   ]
  },
  {
   "cell_type": "code",
   "execution_count": 37,
   "metadata": {
    "id": "O3CLezUu5CHb",
    "outputId": "37c96d34-8f15-4bf0-de9e-c8bf6dc1546f"
   },
   "outputs": [
    {
     "name": "stdout",
     "output_type": "stream",
     "text": [
      "[0.5, 0.6666666666666666, 0.75, 0.8, 0.8333333333333334, 0.8571428571428571, 0.875, 0.8888888888888888, 0.9, 0.9090909090909091, 0.9166666666666666, 0.9230769230769231, 0.9285714285714286, 0.9333333333333333, 0.9375, 0.9411764705882353, 0.9444444444444444, 0.9473684210526315, 0.95]\n"
     ]
    }
   ],
   "source": [
    "# The non-numpy way, not recommended\n",
    "a_list = [x/(x+1) for x in a]\n",
    "print(a_list)"
   ]
  },
  {
   "cell_type": "code",
   "execution_count": 44,
   "metadata": {
    "id": "js7_4ECJ5CHg",
    "outputId": "6391f451-bdf9-4a25-9246-4059d8d250e8"
   },
   "outputs": [
    {
     "data": {
      "text/plain": [
       "array([0.5       , 0.66666667, 0.75      , 0.8       , 0.83333333,\n",
       "       0.85714286, 0.875     , 0.88888889, 0.9       , 0.90909091,\n",
       "       0.91666667, 0.92307692, 0.92857143, 0.93333333, 0.9375    ,\n",
       "       0.94117647, 0.94444444, 0.94736842, 0.95      ])"
      ]
     },
     "execution_count": 44,
     "metadata": {},
     "output_type": "execute_result"
    }
   ],
   "source": [
    "# The numpy way: vectorize the function, then apply it\n",
    "f = np.vectorize(lambda x: x/(x+1))\n",
    "f(a)\n",
    "# f(arr)\n",
    "# f(b)\n",
    "# f(array_1)"
   ]
  },
  {
   "cell_type": "code",
   "execution_count": 45,
   "metadata": {
    "id": "i-0Pzylo5CHk",
    "outputId": "f24721ff-7078-4881-b658-c5546f025d22"
   },
   "outputs": [
    {
     "data": {
      "text/plain": [
       "array([[0.5       , 0.92307692, 0.95833333, 0.97142857, 0.97826087],\n",
       "       [0.98245614, 0.98529412, 0.98734177, 0.98888889, 0.99009901]])"
      ]
     },
     "execution_count": 45,
     "metadata": {},
     "output_type": "execute_result"
    }
   ],
   "source": [
    "# Apply function on a 2-d array: Applied to each element \n",
    "b = np.linspace(1, 100, 10).reshape(2,5)\n",
    "f(b)"
   ]
  },
  {
   "cell_type": "markdown",
   "metadata": {
    "id": "uZLHiKAN5CHn"
   },
   "source": [
    "This also has the advantage that you can vectorize the function once, and then apply it as many times as needed. "
   ]
  },
  {
   "cell_type": "markdown",
   "metadata": {
    "id": "lhDE1Qnq5CHo"
   },
   "source": [
    "#### Apply Basic Linear Algebra Operations\n",
    "\n",
    "NumPy provides the ```np.linalg``` package to apply common linear algebra operations, such as:\n",
    "* ```np.linalg.inv```: Inverse of a matrix\n",
    "* ```np.linalg.det```: Determinant of a matrix\n",
    "* ```np.linalg.eig```: Eigenvalues and eigenvectors of a matrix\n",
    "    \n",
    "Also, you can multiple matrices using ```np.dot(a, b)```. \n"
   ]
  },
  {
   "cell_type": "code",
   "execution_count": null,
   "metadata": {
    "id": "1z8SL7hi5CHp",
    "outputId": "f51abfdb-9e68-451c-cc2d-a564e4ce8d17"
   },
   "outputs": [
    {
     "name": "stdout",
     "output_type": "stream",
     "text": [
      "Help on package numpy.linalg in numpy:\n",
      "\n",
      "NAME\n",
      "    numpy.linalg\n",
      "\n",
      "DESCRIPTION\n",
      "    Core Linear Algebra Tools\n",
      "    -------------------------\n",
      "    Linear algebra basics:\n",
      "    \n",
      "    - norm            Vector or matrix norm\n",
      "    - inv             Inverse of a square matrix\n",
      "    - solve           Solve a linear system of equations\n",
      "    - det             Determinant of a square matrix\n",
      "    - lstsq           Solve linear least-squares problem\n",
      "    - pinv            Pseudo-inverse (Moore-Penrose) calculated using a singular\n",
      "                      value decomposition\n",
      "    - matrix_power    Integer power of a square matrix\n",
      "    \n",
      "    Eigenvalues and decompositions:\n",
      "    \n",
      "    - eig             Eigenvalues and vectors of a square matrix\n",
      "    - eigh            Eigenvalues and eigenvectors of a Hermitian matrix\n",
      "    - eigvals         Eigenvalues of a square matrix\n",
      "    - eigvalsh        Eigenvalues of a Hermitian matrix\n",
      "    - qr              QR decomposition of a matrix\n",
      "    - svd             Singular value decomposition of a matrix\n",
      "    - cholesky        Cholesky decomposition of a matrix\n",
      "    \n",
      "    Tensor operations:\n",
      "    \n",
      "    - tensorsolve     Solve a linear tensor equation\n",
      "    - tensorinv       Calculate an inverse of a tensor\n",
      "    \n",
      "    Exceptions:\n",
      "    \n",
      "    - LinAlgError     Indicates a failed linear algebra operation\n",
      "\n",
      "PACKAGE CONTENTS\n",
      "    _umath_linalg\n",
      "    info\n",
      "    lapack_lite\n",
      "    linalg\n",
      "    setup\n",
      "    tests (package)\n",
      "\n",
      "DATA\n",
      "    absolute_import = _Feature((2, 5, 0, 'alpha', 1), (3, 0, 0, 'alpha', 0...\n",
      "    division = _Feature((2, 2, 0, 'alpha', 2), (3, 0, 0, 'alpha', 0), 8192...\n",
      "    print_function = _Feature((2, 6, 0, 'alpha', 2), (3, 0, 0, 'alpha', 0)...\n",
      "\n",
      "FILE\n",
      "    c:\\users\\admin\\anaconda3\\lib\\site-packages\\numpy\\linalg\\__init__.py\n",
      "\n",
      "\n"
     ]
    }
   ],
   "source": [
    "# np.linalg documentation\n",
    "help(np.linalg)"
   ]
  },
  {
   "cell_type": "code",
   "execution_count": 66,
   "metadata": {
    "id": "Ujfc6DX15CHs",
    "outputId": "4ad4a815-3b48-4212-bcbf-871f16c5bfcd"
   },
   "outputs": [
    {
     "name": "stdout",
     "output_type": "stream",
     "text": [
      "[[1 2 3]\n",
      " [4 5 6]\n",
      " [7 8 9]]\n",
      "[[ 1  2  3  4]\n",
      " [ 5  6  7  8]\n",
      " [ 9 10 11 12]]\n"
     ]
    }
   ],
   "source": [
    "# Creating arrays\n",
    "a = np.arange(1, 10).reshape(3, 3)\n",
    "b= np.arange(1, 13).reshape(3, 4)\n",
    "print(a)\n",
    "print(b)"
   ]
  },
  {
   "cell_type": "code",
   "execution_count": 51,
   "metadata": {},
   "outputs": [
    {
     "name": "stdout",
     "output_type": "stream",
     "text": [
      "Help on function inv in module numpy.linalg:\n",
      "\n",
      "inv(a)\n",
      "    Compute the (multiplicative) inverse of a matrix.\n",
      "    \n",
      "    Given a square matrix `a`, return the matrix `ainv` satisfying\n",
      "    ``dot(a, ainv) = dot(ainv, a) = eye(a.shape[0])``.\n",
      "    \n",
      "    Parameters\n",
      "    ----------\n",
      "    a : (..., M, M) array_like\n",
      "        Matrix to be inverted.\n",
      "    \n",
      "    Returns\n",
      "    -------\n",
      "    ainv : (..., M, M) ndarray or matrix\n",
      "        (Multiplicative) inverse of the matrix `a`.\n",
      "    \n",
      "    Raises\n",
      "    ------\n",
      "    LinAlgError\n",
      "        If `a` is not square or inversion fails.\n",
      "    \n",
      "    See Also\n",
      "    --------\n",
      "    scipy.linalg.inv : Similar function in SciPy.\n",
      "    \n",
      "    Notes\n",
      "    -----\n",
      "    \n",
      "    .. versionadded:: 1.8.0\n",
      "    \n",
      "    Broadcasting rules apply, see the `numpy.linalg` documentation for\n",
      "    details.\n",
      "    \n",
      "    Examples\n",
      "    --------\n",
      "    >>> from numpy.linalg import inv\n",
      "    >>> a = np.array([[1., 2.], [3., 4.]])\n",
      "    >>> ainv = inv(a)\n",
      "    >>> np.allclose(np.dot(a, ainv), np.eye(2))\n",
      "    True\n",
      "    >>> np.allclose(np.dot(ainv, a), np.eye(2))\n",
      "    True\n",
      "    \n",
      "    If a is a matrix object, then the return value is a matrix as well:\n",
      "    \n",
      "    >>> ainv = inv(np.matrix(a))\n",
      "    >>> ainv\n",
      "    matrix([[-2. ,  1. ],\n",
      "            [ 1.5, -0.5]])\n",
      "    \n",
      "    Inverses of several matrices can be computed at once:\n",
      "    \n",
      "    >>> a = np.array([[[1., 2.], [3., 4.]], [[1, 3], [3, 5]]])\n",
      "    >>> inv(a)\n",
      "    array([[[-2.  ,  1.  ],\n",
      "            [ 1.5 , -0.5 ]],\n",
      "           [[-1.25,  0.75],\n",
      "            [ 0.75, -0.25]]])\n",
      "\n"
     ]
    }
   ],
   "source": [
    "help(np.linalg.inv)"
   ]
  },
  {
   "cell_type": "code",
   "execution_count": 61,
   "metadata": {},
   "outputs": [],
   "source": [
    "a = np.array([[2,4,6,7],[6,5,9,8],[3,1,7,8],[6,7,4,1]])"
   ]
  },
  {
   "cell_type": "code",
   "execution_count": 62,
   "metadata": {
    "id": "QQiNHVMj5CHw",
    "outputId": "defeffb7-504e-495a-f1c1-6e5bfeedb584"
   },
   "outputs": [
    {
     "name": "stdout",
     "output_type": "stream",
     "text": [
      "[[-0.18181818 -1.54545455  1.58181818  0.98181818]\n",
      " [ 0.27272727 -0.18181818 -0.07272727  0.12727273]\n",
      " [-0.27272727  3.18181818 -2.72727273 -1.72727273]\n",
      " [ 0.27272727 -2.18181818  1.92727273  1.12727273]]\n"
     ]
    }
   ],
   "source": [
    "# Inverse\n",
    "print(np.linalg.inv(a))"
   ]
  },
  {
   "cell_type": "code",
   "execution_count": 63,
   "metadata": {
    "id": "hCJaSB-D5CHz",
    "outputId": "518a3345-f5b7-4f47-ca7e-573c1118be86"
   },
   "outputs": [
    {
     "data": {
      "text/plain": [
       "-54.999999999999964"
      ]
     },
     "execution_count": 63,
     "metadata": {},
     "output_type": "execute_result"
    }
   ],
   "source": [
    "# Determinant\n",
    "np.linalg.det(a)"
   ]
  },
  {
   "cell_type": "code",
   "execution_count": 64,
   "metadata": {
    "id": "pNzo0i6k5CH2",
    "outputId": "97c06fb7-b3ca-410a-f756-2177788dcc2c"
   },
   "outputs": [
    {
     "data": {
      "text/plain": [
       "(array([20.52468869+0.j        , -4.44772803+0.j        ,\n",
       "        -0.53848033+0.55904045j, -0.53848033-0.55904045j]),\n",
       " array([[ 0.44668841+0.j        ,  0.4787601 +0.j        ,\n",
       "          0.44238261-0.16487646j,  0.44238261+0.16487646j],\n",
       "        [ 0.64831989+0.j        , -0.04905912+0.j        ,\n",
       "         -0.09098143+0.18347544j, -0.09098143-0.18347544j],\n",
       "        [ 0.41613091+0.j        ,  0.41746559+0.j        ,\n",
       "         -0.69571461+0.j        , -0.69571461-0.j        ],\n",
       "        [ 0.45495698+0.j        , -0.77078171+0.j        ,\n",
       "          0.50105806-0.00972234j,  0.50105806+0.00972234j]]))"
      ]
     },
     "execution_count": 64,
     "metadata": {},
     "output_type": "execute_result"
    }
   ],
   "source": [
    "# Eigenvalues and eigenvectors\n",
    "np.linalg.eig(a)"
   ]
  },
  {
   "cell_type": "code",
   "execution_count": 67,
   "metadata": {
    "id": "V8B2SjXh5CH4",
    "outputId": "3ad6f201-2d16-4440-895c-33df89a70576"
   },
   "outputs": [
    {
     "data": {
      "text/plain": [
       "array([[ 38,  44,  50,  56],\n",
       "       [ 83,  98, 113, 128],\n",
       "       [128, 152, 176, 200]])"
      ]
     },
     "execution_count": 67,
     "metadata": {},
     "output_type": "execute_result"
    }
   ],
   "source": [
    "# Multiply matrices\n",
    "np.dot(a, b)"
   ]
  },
  {
   "cell_type": "code",
   "execution_count": null,
   "metadata": {},
   "outputs": [],
   "source": [
    "Description\n",
    "Horizontally stack two arrays using hstack, and finally, vertically stack the resultant array with the third array.\n",
    "\n",
    "Example:\n",
    "Input 1:\n",
    "[[1, 2],\n",
    " [5, 6]]\n",
    "\n",
    "[[3, 4],\n",
    " [7, 8]]\n",
    "\n",
    "[[9, 10, 11, 12]]\n",
    "Output 1:\n",
    "[[1 2 3 4]\n",
    " [5 6 7 8]\n",
    " [9 10 11 12]]"
   ]
  },
  {
   "cell_type": "code",
   "execution_count": 70,
   "metadata": {},
   "outputs": [
    {
     "name": "stdout",
     "output_type": "stream",
     "text": [
      "[[ 1  2  3  4]\n",
      " [ 5  6  7  8]\n",
      " [ 9 10 11 12]]\n"
     ]
    }
   ],
   "source": [
    "arr1 = np.array([[1, 2],[5, 6]])\n",
    "arr2 = np.array([[3, 4],[7, 8]])\n",
    "arr3 = np.array([[9, 10, 11, 12]])\n",
    "\n",
    "arrh = np.hstack((arr1,arr2))\n",
    "\n",
    "arrv = np.vstack((arrh,arr3)) \n",
    "print(arrv)\n"
   ]
  },
  {
   "cell_type": "code",
   "execution_count": null,
   "metadata": {},
   "outputs": [],
   "source": [
    "Given an array, 'array_3' divide each element with 5. \n",
    "Hint: Create a vectorized function, then apply it to the array_3."
   ]
  },
  {
   "cell_type": "code",
   "execution_count": 71,
   "metadata": {},
   "outputs": [
    {
     "data": {
      "text/plain": [
       "array([[0.2, 0.4, 0.6, 0.8],\n",
       "       [1. , 1.2, 1.4, 1.6],\n",
       "       [1.8, 2. , 2.2, 2.4]])"
      ]
     },
     "execution_count": 71,
     "metadata": {},
     "output_type": "execute_result"
    }
   ],
   "source": [
    "\n",
    "f = np.vectorize(lambda x:x/5)\n",
    "\n",
    "f(arrv)"
   ]
  },
  {
   "cell_type": "code",
   "execution_count": null,
   "metadata": {},
   "outputs": [],
   "source": []
  }
 ],
 "metadata": {
  "colab": {
   "name": "Opn on Array nbk2.ipynb",
   "provenance": []
  },
  "kernelspec": {
   "display_name": "Python 3 (ipykernel)",
   "language": "python",
   "name": "python3"
  },
  "language_info": {
   "codemirror_mode": {
    "name": "ipython",
    "version": 3
   },
   "file_extension": ".py",
   "mimetype": "text/x-python",
   "name": "python",
   "nbconvert_exporter": "python",
   "pygments_lexer": "ipython3",
   "version": "3.11.2"
  }
 },
 "nbformat": 4,
 "nbformat_minor": 1
}
